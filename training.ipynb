{
 "cells": [
  {
   "cell_type": "code",
   "execution_count": 9,
   "metadata": {},
   "outputs": [],
   "source": [
    "from datasets import load_dataset\n",
    "from transformers import AutoModelForCausalLM, AutoTokenizer, BitsAndBytesConfig\n",
    "import json\n",
    "from datasets import Dataset\n",
    "from peft import LoraConfig, get_peft_model\n",
    "from transformers import TrainingArguments, Trainer"
   ]
  },
  {
   "cell_type": "code",
   "execution_count": 10,
   "metadata": {},
   "outputs": [
    {
     "name": "stderr",
     "output_type": "stream",
     "text": [
      "`low_cpu_mem_usage` was None, now default to True since model is quantized.\n"
     ]
    }
   ],
   "source": [
    "# Load TinyLlama\n",
    "model_name = \"TinyLlama/TinyLlama-1.1B-Chat-v1.0\"\n",
    "tokenizer = AutoTokenizer.from_pretrained(model_name)\n",
    "tokenizer.pad_token = tokenizer.eos_token  # Set pad token\n",
    "\n",
    "# Quantize model to 4-bit (saves VRAM)\n",
    "bnb_config = BitsAndBytesConfig(\n",
    "    load_in_4bit=True,\n",
    "    bnb_4bit_quant_type=\"nf4\",\n",
    "    bnb_4bit_compute_dtype=\"float16\",\n",
    ")\n",
    "model = AutoModelForCausalLM.from_pretrained(model_name, quantization_config=bnb_config)"
   ]
  },
  {
   "cell_type": "code",
   "execution_count": 11,
   "metadata": {},
   "outputs": [
    {
     "data": {
      "application/vnd.jupyter.widget-view+json": {
       "model_id": "68902dc7e2064ba398a75d3a5cf612be",
       "version_major": 2,
       "version_minor": 0
      },
      "text/plain": [
       "Map:   0%|          | 0/5 [00:00<?, ? examples/s]"
      ]
     },
     "metadata": {},
     "output_type": "display_data"
    },
    {
     "name": "stdout",
     "output_type": "stream",
     "text": [
      "dict_keys(['input_ids', 'attention_mask'])\n"
     ]
    }
   ],
   "source": [
    "from datasets import Dataset\n",
    "import json\n",
    "\n",
    "# 1. Load your custom dataset\n",
    "with open(\"data/custom_dataset.jsonl\", \"r\") as f:\n",
    "    data = [json.loads(line) for line in f]\n",
    "\n",
    "# Convert to Hugging Face Dataset\n",
    "dataset = Dataset.from_list(data)\n",
    "\n",
    "# 2. Correct tokenization function\n",
    "def tokenize_function(examples):\n",
    "    # Prepare the text inputs\n",
    "    texts = [\n",
    "        f\"### Instruction:\\n{inst}\\n\\n### Response:\\n{out}\"\n",
    "        for inst, out in zip(examples[\"instruction\"], examples[\"output\"])\n",
    "    ]\n",
    "    \n",
    "    # Tokenize\n",
    "    tokenized = tokenizer(\n",
    "        texts,\n",
    "        truncation=True,\n",
    "        max_length=512,\n",
    "        padding=\"max_length\",\n",
    "        return_tensors=\"np\"\n",
    "    )\n",
    "    \n",
    "    return tokenized\n",
    "\n",
    "# 3. Apply tokenization\n",
    "tokenized_dataset = dataset.map(\n",
    "    tokenize_function,\n",
    "    batched=True,\n",
    "    batch_size=4,\n",
    "    remove_columns=[\"instruction\", \"output\"]  # Remove original columns\n",
    ")\n",
    "\n",
    "# 4. Verify\n",
    "print(tokenized_dataset[0].keys())  # Should show: ['input_ids', 'attention_mask']"
   ]
  },
  {
   "cell_type": "code",
   "execution_count": 12,
   "metadata": {},
   "outputs": [
    {
     "name": "stdout",
     "output_type": "stream",
     "text": [
      "trainable params: 1,126,400 || all params: 1,101,174,784 || trainable%: 0.1023\n"
     ]
    }
   ],
   "source": [
    "# LoRA settings\n",
    "lora_config = LoraConfig(\n",
    "    r=8,                  # Rank\n",
    "    lora_alpha=32,        # Scaling factor\n",
    "    target_modules=[\"q_proj\", \"v_proj\"],  # TinyLlama layers to target\n",
    "    lora_dropout=0.05,\n",
    "    bias=\"none\",\n",
    "    task_type=\"CAUSAL_LM\",\n",
    ")\n",
    "\n",
    "model = get_peft_model(model, lora_config)\n",
    "model.print_trainable_parameters()  # Should show ~0.1% trainable params"
   ]
  },
  {
   "cell_type": "code",
   "execution_count": 13,
   "metadata": {},
   "outputs": [
    {
     "data": {
      "application/vnd.jupyter.widget-view+json": {
       "model_id": "28f6d9e6eb3a4ac790dfb2722fb8b63e",
       "version_major": 2,
       "version_minor": 0
      },
      "text/plain": [
       "Map:   0%|          | 0/5 [00:00<?, ? examples/s]"
      ]
     },
     "metadata": {},
     "output_type": "display_data"
    },
    {
     "name": "stderr",
     "output_type": "stream",
     "text": [
      "No label_names provided for model class `PeftModelForCausalLM`. Since `PeftModel` hides base models input arguments, if label_names is not given, label_names can't be set automatically within `Trainer`. Note that empty label_names list will be used instead.\n"
     ]
    },
    {
     "data": {
      "text/html": [
       "\n",
       "    <div>\n",
       "      \n",
       "      <progress value='1' max='1' style='width:300px; height:20px; vertical-align: middle;'></progress>\n",
       "      [1/1 00:00, Epoch 1/1]\n",
       "    </div>\n",
       "    <table border=\"1\" class=\"dataframe\">\n",
       "  <thead>\n",
       " <tr style=\"text-align: left;\">\n",
       "      <th>Step</th>\n",
       "      <th>Training Loss</th>\n",
       "    </tr>\n",
       "  </thead>\n",
       "  <tbody>\n",
       "  </tbody>\n",
       "</table><p>"
      ],
      "text/plain": [
       "<IPython.core.display.HTML object>"
      ]
     },
     "metadata": {},
     "output_type": "display_data"
    },
    {
     "data": {
      "text/plain": [
       "TrainOutput(global_step=1, training_loss=16.668989181518555, metrics={'train_runtime': 1.1529, 'train_samples_per_second': 4.337, 'train_steps_per_second': 0.867, 'total_flos': 15907411722240.0, 'train_loss': 16.668989181518555, 'epoch': 1.0})"
      ]
     },
     "execution_count": 13,
     "metadata": {},
     "output_type": "execute_result"
    }
   ],
   "source": [
    "# First, modify the tokenization function to return labels (Cell 3 update)\n",
    "def tokenize_function(examples):\n",
    "    texts = [\n",
    "        f\"### Instruction:\\n{inst}\\n\\n### Response:\\n{out}\"\n",
    "        for inst, out in zip(examples[\"instruction\"], examples[\"output\"])\n",
    "    ]\n",
    "    \n",
    "    tokenized = tokenizer(\n",
    "        texts,\n",
    "        truncation=True,\n",
    "        max_length=512,\n",
    "        padding=\"max_length\",\n",
    "        return_tensors=\"np\"\n",
    "    )\n",
    "    \n",
    "    # Add labels (same as input_ids for causal LM)\n",
    "    tokenized[\"labels\"] = tokenized[\"input_ids\"].copy()\n",
    "    return tokenized\n",
    "\n",
    "# Re-tokenize the dataset\n",
    "tokenized_dataset = dataset.map(\n",
    "    tokenize_function,\n",
    "    batched=True,\n",
    "    batch_size=4,\n",
    "    remove_columns=[\"instruction\", \"output\"]\n",
    ")\n",
    "\n",
    "# Then update the training arguments (Cell 5)\n",
    "training_args = TrainingArguments(\n",
    "    output_dir=\"./tinyllama-lora\",\n",
    "    per_device_train_batch_size=4,\n",
    "    gradient_accumulation_steps=2,\n",
    "    learning_rate=2e-5,\n",
    "    num_train_epochs=1,\n",
    "    logging_steps=10,\n",
    "    fp16=True,\n",
    "    save_steps=100,\n",
    "    remove_unused_columns=True,  # Now safe to remove unused columns\n",
    ")\n",
    "\n",
    "trainer = Trainer(\n",
    "    model=model,\n",
    "    args=training_args,\n",
    "    train_dataset=tokenized_dataset,\n",
    ")\n",
    "\n",
    "trainer.train()"
   ]
  },
  {
   "cell_type": "code",
   "execution_count": 14,
   "metadata": {},
   "outputs": [
    {
     "data": {
      "text/plain": [
       "('./outputs/tinyllama-lora\\\\tokenizer_config.json',\n",
       " './outputs/tinyllama-lora\\\\special_tokens_map.json',\n",
       " './outputs/tinyllama-lora\\\\tokenizer.model',\n",
       " './outputs/tinyllama-lora\\\\added_tokens.json',\n",
       " './outputs/tinyllama-lora\\\\tokenizer.json')"
      ]
     },
     "execution_count": 14,
     "metadata": {},
     "output_type": "execute_result"
    }
   ],
   "source": [
    "# Save the merged model (base model + LoRA adapter)\n",
    "model.save_pretrained(\"./outputs/tinyllama-lora\")\n",
    "tokenizer.save_pretrained(\"./outputs/tinyllama-lora\")"
   ]
  },
  {
   "cell_type": "code",
   "execution_count": 15,
   "metadata": {},
   "outputs": [],
   "source": [
    "from transformers import AutoTokenizer, AutoModelForCausalLM, BitsAndBytesConfig\n",
    "from peft import PeftModel\n",
    "import torch\n",
    "\n",
    "# 1. Free up memory first\n",
    "torch.cuda.empty_cache()\n",
    "\n",
    "# 2. Load with more efficient config\n",
    "bnb_config = BitsAndBytesConfig(\n",
    "    load_in_4bit=True,\n",
    "    bnb_4bit_quant_type=\"nf4\",\n",
    "    bnb_4bit_compute_dtype=torch.float16,\n",
    "    bnb_4bit_use_double_quant=True  # Saves more memory\n",
    ")\n",
    "\n",
    "# 3. Load components sequentially\n",
    "tokenizer = AutoTokenizer.from_pretrained(\"TinyLlama/TinyLlama-1.1B-Chat-v1.0\")\n",
    "tokenizer.pad_token = tokenizer.eos_token\n",
    "\n",
    "# 4. Load base model with explicit device map\n",
    "base_model = AutoModelForCausalLM.from_pretrained(\n",
    "    \"TinyLlama/TinyLlama-1.1B-Chat-v1.0\",\n",
    "    quantization_config=bnb_config,\n",
    "    device_map=\"auto\",\n",
    "    low_cpu_mem_usage=True  # Critical for memory efficiency\n",
    ")\n",
    "\n",
    "# 5. Load adapter separately\n",
    "model = PeftModel.from_pretrained(\n",
    "    base_model,\n",
    "    \"./outputs/tinyllama-lora\",\n",
    "    device_map=\"auto\"\n",
    ")\n",
    "\n",
    "# 6. Merge only if needed (merging uses extra memory)\n",
    "# model = model.merge_and_unload()  # Skip this for now"
   ]
  },
  {
   "cell_type": "code",
   "execution_count": 16,
   "metadata": {},
   "outputs": [
    {
     "name": "stdout",
     "output_type": "stream",
     "text": [
      "### Instruction:\n",
      "Tell me about TrailTracker\n",
      "\n",
      "### Response:\n",
      "TrailTracker is a mobile app that allows users to track their hiking and backpacking adventures. It features a user-friendly interface, detailed maps, and real-time tracking of hiking trails and backpacking routes. The app also includes a community feature where users can connect with other hikers and backpackers, share their experiences, and offer support and advice. Overall, TrailTracker is a great tool for anyone who loves\n"
     ]
    }
   ],
   "source": [
    "# Test with one of your training instructions\n",
    "instruction = \"Tell me about TrailTracker\"\n",
    "inputs = tokenizer(\n",
    "    f\"### Instruction:\\n{instruction}\\n\\n### Response:\\n\",\n",
    "    return_tensors=\"pt\"\n",
    ").to(\"cuda\")\n",
    "\n",
    "outputs = model.generate(**inputs, max_new_tokens=100)\n",
    "print(tokenizer.decode(outputs[0], skip_special_tokens=True))"
   ]
  },
  {
   "cell_type": "code",
   "execution_count": 18,
   "metadata": {},
   "outputs": [
    {
     "name": "stdout",
     "output_type": "stream",
     "text": [
      "TrailTracker is a mobile app that enables hikers to track their hikes and share their experiences with a community of fellow hikers.\n",
      " The app provides features such as tracking hikes, sharing maps, and chatting with other hikers.\n",
      " Users can also earn points for completing hikes and participating in challenges.\n",
      " The app is available on both Android and iOS platforms and can be downloaded for free.\n",
      " With TrailTracker, hikers can connect with like-minded individuals, share their experiences, and learn from each other.\n",
      "\n"
     ]
    }
   ],
   "source": [
    "import re\n",
    "\n",
    "instruction = \"Tell me about TrailTracker\"\n",
    "inputs = tokenizer(\n",
    "    f\"### Instruction:\\n{instruction}\\n\\n### Response:\\n\",\n",
    "    return_tensors=\"pt\"\n",
    ").to(\"cuda\")\n",
    "\n",
    "outputs = model.generate(\n",
    "    **inputs,\n",
    "    max_new_tokens=200,\n",
    "    do_sample=True,\n",
    "    temperature=0.7,\n",
    "    eos_token_id=tokenizer.eos_token_id,\n",
    "    pad_token_id=tokenizer.pad_token_id\n",
    ")\n",
    "\n",
    "# Clean and format\n",
    "full_response = tokenizer.decode(outputs[0], skip_special_tokens=True)\n",
    "response_text = full_response.split(\"### Response:\")[1].strip()\n",
    "response_text = re.sub(r'(?<!\\d)\\.(?!\\d)', '.\\n', response_text)\n",
    "\n",
    "print(response_text)"
   ]
  }
 ],
 "metadata": {
  "kernelspec": {
   "display_name": "venv",
   "language": "python",
   "name": "python3"
  },
  "language_info": {
   "codemirror_mode": {
    "name": "ipython",
    "version": 3
   },
   "file_extension": ".py",
   "mimetype": "text/x-python",
   "name": "python",
   "nbconvert_exporter": "python",
   "pygments_lexer": "ipython3",
   "version": "3.12.9"
  }
 },
 "nbformat": 4,
 "nbformat_minor": 2
}
